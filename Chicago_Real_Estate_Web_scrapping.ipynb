{
  "cells": [
    {
      "cell_type": "markdown",
      "metadata": {},
      "source": [
        "# Importing Libraries"
      ]
    },
    {
      "cell_type": "code",
      "execution_count": 16,
      "metadata": {
        "id": "gop_Me3jpkq_"
      },
      "outputs": [],
      "source": [
        "import requests\n",
        "from IPython.display import display\n",
        "from bs4 import BeautifulSoup"
      ]
    },
    {
      "cell_type": "markdown",
      "metadata": {},
      "source": [
        "# Fetching First Page"
      ]
    },
    {
      "cell_type": "code",
      "execution_count": 17,
      "metadata": {
        "colab": {
          "base_uri": "https://localhost:8080/"
        },
        "id": "uvo2216dpkrG",
        "outputId": "62465b55-68a8-4e0e-819b-678cd16e25a9"
      },
      "outputs": [
        {
          "name": "stdout",
          "output_type": "stream",
          "text": [
            "[3, 1, 2, 3, 2, 3, 3, 1, 6, 2, 3, 2, 2, 1, 4, 1, 1, 2, 4, 2, 3, 3, 3, 3]\n",
            "[429900, 155000, 545000, 418900, 460000, 324900, 230000, 269900, 335000, 334500, 374999, 449000, 575000, 225000, 165000, 239500, 305000, 390000, 349999, 424900, 2999000, 1250000, 1225000, 950000]\n",
            "[3, 1, 2, 2, 3, 2, 2, 1, 3, 2, 2, 2, 2, 1, 2, 1, 1, 2, 3, 2, 3, 3, 2, 3]\n",
            "[2000, 647, 1380, 1400, 2000, 1433, 2500, 750, 2113, 1150, 2190, 1102, 1400, 762, 3125, 800, 800, 1100, 2818, 1100, 4590, 3628, 2650, 2600]\n",
            "['3913 W 57th Place Chicago, IL 60629', '7021 N Greenview Avenue , G Chicago, IL 60626', '520 W Huron Street Unit 320 Chicago, IL 60654', '7611 W Bloomingdale Avenue Elmwood Park, IL 60707', '5555 N Sheridan Road Unit 1815 Chicago, IL 60640', '11654 S Leamington Avenue Alsip, IL 60803', 'Chicago, IL 60620', '3900 North Pine Grove Avenue Unit 710 Chicago, IL 60613', '9412 S Eberhart Avenue Chicago, IL 60619', '1540 N State Parkway Unit 11A Chicago, IL 60610', '8918 S Francisco Avenue Evergreen Park, IL 60805', '2020 N Lincoln Park West Unit 13M Chicago, IL 60614', '2020 N Lincoln Park West Unit 28KL Chicago, IL 60614', '655 W Irving Park Road Unit 5013 Chicago, IL 60613', '8406 S Kingston Avenue Chicago, IL 60617', '1850 N Clark Street Unit 405 Chicago, IL 60614', '1850 N Clark Street Unit 2202 Chicago, IL 60614', '1850 N Clark Street Unit 2509 Chicago, IL 60614', '7559 S Michigan Avenue Chicago, IL 60619', '336 W Wellington Avenue Unit 605 Chicago, IL 60657', '2753 N Hampden Court PHA Chicago, IL 60614', '2838 N Talman Avenue Chicago, IL 60618', '930 N CLARK Street B Chicago, IL 60610', '334 N JEFFERSON Street D Chicago, IL 60661']\n"
          ]
        }
      ],
      "source": [
        "# Initialize empty lists\n",
        "r = [] # response list of pages\n",
        "c = [] # content list of pages\n",
        "soup= [] \n",
        "beds=[] # beds list of pages\n",
        "prices=[] # prices list of pages and so on\n",
        "bath=[]\n",
        "sq=[]\n",
        "adrs = []\n",
        "total=[]\n",
        "\n",
        "beds_ds = [] # beds dataseries of the 24 house in each page\n",
        "prices_ds = [] # prices dataseries of the 24 house in each page and so on\n",
        "bath_ds = []\n",
        "sq_ds = []\n",
        "adrs_ds = []\n",
        "\n",
        "# Fetch the first page\n",
        "r.append(requests.get(\"https://www.century21.com/real-estate/chicago-il/LCILCHICAGO/?beds=1&baths=1&minsqft=200\"))\n",
        "c.append(r[0].content)\n",
        "soup.append(BeautifulSoup(c[0], \"html.parser\"))\n",
        "total = soup[0].find_all(\"div\", {\"class\":\"main-listings row row-cols-1 row-cols-md-2 row-cols-lg-3 row-cols-xxl-4 g-3 px-3 pe-sm-0 pb-3\"})\n",
        "\n",
        "beds.append(total[0].find_all(\"div\",{\"class\":\"property-spec beds\"}))\n",
        "prices.append(total[0].find_all(\"div\",{\"class\":\"font-family-taglines property-price\"}))\n",
        "bath.append(total[0].find_all(\"span\",{\"class\":\"specs-number full-baths\"}))\n",
        "sq.append(total[0].find_all(\"div\",{\"class\":\"property-spec square-footage\"}))\n",
        "adrs.append(total[0].find_all(\"p\",{\"class\":\"property-address\"}))\n",
        "\n",
        "for k in range(0,24):\n",
        "      beds_ds.append(int(beds[0][k].text.split()[0]))\n",
        "      prices_ds.append(int(prices[0][k].text.strip().replace(\",\",\"\").replace(\"$\",\"\")))\n",
        "      bath_ds.append(int(bath[0][k].text))\n",
        "      sq_ds.append(int(sq[0][k].text.split()[0].replace(\",\",\"\")))\n",
        "      adrs_ds.append(adrs[0][k].text.strip().replace(\"\\n\",\"\"))\n",
        "\n",
        "print(beds_ds)\n",
        "print(prices_ds)\n",
        "print(bath_ds)\n",
        "print(sq_ds)\n",
        "print(adrs_ds)"
      ]
    },
    {
      "cell_type": "markdown",
      "metadata": {},
      "source": [
        "# Fetching the remaining pages"
      ]
    },
    {
      "cell_type": "code",
      "execution_count": 18,
      "metadata": {
        "colab": {
          "base_uri": "https://localhost:8080/"
        },
        "id": "n0KE7buv8Hck",
        "outputId": "fd2d6d9c-e9b3-4b39-9880-42f18913b41a"
      },
      "outputs": [
        {
          "name": "stdout",
          "output_type": "stream",
          "text": [
            "[3, 1, 2, 3, 2, 3, 3, 1, 6, 2, 3, 2, 2, 1, 4, 1, 1, 2, 4, 2, 3, 3, 3, 3, 3, 4, 2, 2, 2, 2, 2, 2, 1, 3, 3, 5, 1, 2, 3, 4, 1, 2, 3, 2, 3, 4, 1, 3, 4, 2, 4, 1, 4, 1, 2, 2, 4, 1, 3, 5, 5, 5, 4, 3, 4, 3, 2, 5, 5, 5, 3, 3, 3, 2, 2, 3, 2, 2, 2, 3, 4, 2, 2, 2, 1, 1, 5, 4, 2, 2, 4, 2, 2, 2, 4, 3, 1, 3, 2, 1, 3, 4, 3, 1, 2, 3, 1, 2, 1, 1, 2, 3, 2, 2, 2, 2, 2, 1, 2, 3, 4, 2, 5, 5, 5, 2, 3, 2, 2, 2, 4, 3, 2, 2, 2, 6, 6, 6, 5, 4, 3, 2, 3, 4]\n",
            "[429900, 155000, 545000, 418900, 460000, 324900, 230000, 269900, 335000, 334500, 374999, 449000, 575000, 225000, 165000, 239500, 305000, 390000, 349999, 424900, 2999000, 1250000, 1225000, 950000, 899900, 749950, 650000, 649000, 600000, 535000, 499000, 450000, 440000, 399900, 399900, 399900, 399000, 399000, 380000, 370000, 369900, 369000, 364900, 349900, 329000, 315000, 289000, 285000, 284900, 275000, 264899, 244900, 237500, 179900, 174700, 169900, 125000, 109000, 80000, 4499000, 2895000, 2445000, 1399900, 1099000, 899900, 899500, 850000, 655000, 645000, 635000, 599900, 585000, 585000, 565000, 549999, 535000, 499900, 475000, 474000, 464900, 449900, 435000, 425000, 415000, 400000, 399900, 399900, 399000, 395000, 389000, 369000, 360000, 349900, 335000, 335000, 329900, 325000, 325000, 315999, 315000, 300000, 278000, 275000, 259900, 249999, 249900, 249000, 174900, 154900, 135000, 73000, 60000, 499000, 390000, 254900, 155000, 439900, 135000, 675000, 645000, 579900, 365000, 354900, 334900, 289900, 262000, 259000, 205000, 170000, 165000, 63000, 987000, 230000, 429555, 239900, 2150000, 1894000, 1894000, 1600000, 1299000, 895995, 825000, 799999, 777000]\n",
            "[3, 1, 2, 2, 3, 2, 2, 1, 3, 2, 2, 2, 2, 1, 2, 1, 1, 2, 3, 2, 3, 3, 2, 3, 2, 2, 2, 2, 2, 2, 2, 2, 1, 2, 1, 4, 1, 2, 2, 3, 1, 2, 2, 2, 3, 4, 1, 3, 2, 2, 2, 1, 1, 1, 1, 1, 2, 1, 3, 4, 4, 4, 3, 2, 3, 2, 2, 3, 3, 3, 3, 2, 3, 2, 2, 3, 2, 2, 2, 2, 2, 2, 2, 2, 1, 1, 3, 3, 2, 2, 3, 2, 2, 2, 2, 2, 1, 2, 1, 1, 2, 3, 2, 1, 2, 2, 1, 1, 1, 1, 1, 1, 2, 1, 2, 1, 2, 1, 2, 2, 4, 2, 2, 2, 2, 2, 2, 2, 1, 1, 1, 2, 1, 2, 1, 4, 4, 4, 4, 3, 4, 2, 3, 3]\n",
            "[2000, 647, 1380, 1400, 2000, 1433, 2500, 750, 2113, 1150, 2190, 1102, 1400, 762, 3125, 800, 800, 1100, 2818, 1100, 4590, 3628, 2650, 2600, 2500, 2300, 2320, 1300, 1360, 1350, 1225, 1365, 1000, 1099, 1745, 3224, 872, 1227, 1850, 2100, 1093, 1200, 1800, 1750, 2000, 1570, 800, 1920, 2050, 1200, 3100, 565, 1762, 600, 1100, 1000, 1598, 750, 2100, 9200, 7540, 5200, 3075, 2540, 3500, 2400, 1475, 2382, 2085, 2252, 2050, 1800, 3159, 1500, 1635, 2252, 1462, 1200, 1412, 1343, 1131, 1200, 1260, 1550, 843, 625, 2250, 2525, 1347, 1100, 2400, 1350, 1546, 1600, 1716, 1626, 1019, 1700, 1700, 876, 1680, 1800, 1800, 850, 1400, 1536, 849, 775, 600, 910, 950, 1250, 2144, 1400, 1600, 900, 1200, 800, 2200, 2694, 2400, 1003, 2661, 3135, 1410, 1200, 2000, 1600, 1061, 1782, 840, 1870, 1000, 1260, 1600, 5000, 4600, 4600, 5000, 4000, 6131, 1450, 2300, 4400]\n",
            "['3913 W 57th Place Chicago, IL 60629', '7021 N Greenview Avenue , G Chicago, IL 60626', '520 W Huron Street Unit 320 Chicago, IL 60654', '7611 W Bloomingdale Avenue Elmwood Park, IL 60707', '5555 N Sheridan Road Unit 1815 Chicago, IL 60640', '11654 S Leamington Avenue Alsip, IL 60803', 'Chicago, IL 60620', '3900 North Pine Grove Avenue Unit 710 Chicago, IL 60613', '9412 S Eberhart Avenue Chicago, IL 60619', '1540 N State Parkway Unit 11A Chicago, IL 60610', '8918 S Francisco Avenue Evergreen Park, IL 60805', '2020 N Lincoln Park West Unit 13M Chicago, IL 60614', '2020 N Lincoln Park West Unit 28KL Chicago, IL 60614', '655 W Irving Park Road Unit 5013 Chicago, IL 60613', '8406 S Kingston Avenue Chicago, IL 60617', '1850 N Clark Street Unit 405 Chicago, IL 60614', '1850 N Clark Street Unit 2202 Chicago, IL 60614', '1850 N Clark Street Unit 2509 Chicago, IL 60614', '7559 S Michigan Avenue Chicago, IL 60619', '336 W Wellington Avenue Unit 605 Chicago, IL 60657', '2753 N Hampden Court PHA Chicago, IL 60614', '2838 N Talman Avenue Chicago, IL 60618', '930 N CLARK Street B Chicago, IL 60610', '334 N JEFFERSON Street D Chicago, IL 60661', '1614 W Ontario Street Chicago, IL 60622', '3518 W Wolfram Street 1 Chicago, IL 60618', '761 W 15th Street Chicago, IL 60607', '125 S Green Street 803A Chicago, IL 60607', '823 N Marshfield Avenue 3 Chicago, IL 60622', '100 E 14th Street 1804 Chicago, IL 60605', '510 W Erie Street 1106 Chicago, IL 60654', '210 S DESPLAINES Street 312 Chicago, IL 60661', '111 E Chestnut Street 56G Chicago, IL 60611', '7516 W Argyle Street W Harwood Heights, IL 60706', '2728 N Neva Avenue Chicago, IL 60707', '7947 S Bennett Avenue Chicago, IL 60617', '21 W CHESTNUT Street 803 Chicago, IL 60610', '611 S Wells Street 2809 Chicago, IL 60607', '3862 S Lake Park Avenue 3N Chicago, IL 60653', '10561 S Church Street Chicago, IL 60643', '10 E ONTARIO Street 4101 Chicago, IL 60611', '701 S WELLS Street 2905 Chicago, IL 60607', '6607 N Newgard Avenue 2S Chicago, IL 60626', '4504 W 122nd Street Alsip, IL 60803', '4743 S Langley Avenue 1S Chicago, IL 60615', '11311 S Stewart Avenue Chicago, IL 60628', '401 E ONTARIO Street 1904 Chicago, IL 60611', '7316 S Wabash Avenue Chicago, IL 60619', '12237 S MORGAN Street Chicago, IL 60643', '5757 N Sheridan Road 6B Chicago, IL 60660', '6830 S Honore Street Chicago, IL 60636', '405 N Wabash Avenue 1605 Chicago, IL 60611', '1515 N Leclaire Avenue Chicago, IL 60651', '655 W Irving Park Road 2307 Chicago, IL 60613', '2200 W Granville Avenue 1 Chicago, IL 60659', '6446 N Claremont Avenue 3 Chicago, IL 60645', '41 N Lotus Avenue Chicago, IL 60644', '880 N Lake Shore Drive 13H Chicago, IL 60611', '10220 S Peoria Street Chicago, IL 60643', '1352 N LaSalle Drive Chicago, IL 60610', '2424 N Orchard Street Chicago, IL 60614', '1218 W Fletcher Street Chicago, IL 60657', '4556 N Damen Avenue Chicago, IL 60625', '1307 W WRIGHTWOOD Avenue 101 Chicago, IL 60614', '6576 N Oconto Avenue Chicago, IL 60631', '2241 W IRVING PARK Road 1R Chicago, IL 60618', '919 W Wrightwood Avenue 3 Chicago, IL 60614', '5017 S DREXEL Boulevard 302 Chicago, IL 60615', '5017 S DREXEL Boulevard 201 Chicago, IL 60615', '5017 S DREXEL Boulevard 101 Chicago, IL 60615', '6030 N Olympia Avenue Chicago, IL 60631', '210 E Pearson Street 3B Chicago, IL 60611', '9825 S Winchester Avenue Chicago, IL 60643', '1522 S Prairie Avenue D Chicago, IL 60605', '947 N Ashland Avenue 2N Chicago, IL 60622', '5017 S Drexel Boulevard GARDEN-2 Chicago, IL 60615', '5442 N Western Avenue 2C Chicago, IL 60625', '345 N La Salle Street 3601 Chicago, IL 60654', '2811 N Bell Avenue 405 Chicago, IL 60618', '10527 S Harding Avenue Chicago, IL 60655', '5025 W Superior Street Chicago, IL 60644', '2800 N Lake Shore Drive 302 Chicago, IL 60657', '1400 S Michigan Avenue 1904 Chicago, IL 60605', '680 N Lake Shore Drive 1415 Chicago, IL 60611', '1040 W Adams Street 502 Chicago, IL 60607', '234 W Polk Street 2811 Chicago, IL 60607', '722 N TRUMBULL Avenue Chicago, IL 60624', '6666 W Imlay Street Chicago, IL 60631', '2254 W 23rd Street Chicago, IL 60608', '1841 S Calumet Avenue 808 Chicago, IL 60616', '818 N Lawndale Avenue Chicago, IL 60651', '6065 N Ridge Avenue 2 Chicago, IL 60660', '8560 W Foster Avenue 706 Norridge, IL 60706', '1117 W Fry Street G Chicago, IL 60642', '3410 W 85th Street Chicago, IL 60652', '9349 S Bishop Street Chicago, IL 60620', '1727 S Indiana Avenue 207 Chicago, IL 60616', '5842 S Stony Island Avenue 7G Chicago, IL 60637', '5555 S Everett Avenue C14 Chicago, IL 60637', '900 N LAKE SHORE Drive 1210 Chicago, IL 60611', '7453 N Hoyne Avenue 3S Chicago, IL 60645', '7015 S Indiana Avenue Chicago, IL 60637', '7822 S EMERALD Avenue Chicago, IL 60620', '400 E Randolph Street 2826 Chicago, IL 60601', '5048 N Marine Drive F3 Chicago, IL 60640', '12233 S Eggleston Avenue Chicago, IL 60628', '440 N WABASH Street 508 Chicago, IL 60611', '8164 W Forest Preserve Avenue 2C Chicago, IL 60634', '6812 N WAYNE Avenue 3C Chicago, IL 60626', '2916 N HARLEM Avenue 3 Elmwood Park, IL 60707', '8152 S Drexel Avenue G Chicago, IL 60619', '4850 S Lake Park Avenue 1301 Chicago, IL 60615', '47 E 23rd Street Chicago, IL 60616', '7319 W Summerdale Avenue Chicago, IL 60656', '2714 W Wilcox Street 3 Chicago, IL 60612', '5214 S Calumet Avenue Chicago, IL 60615', '1841 S Calumet Avenue Unit 1805 Chicago, IL 60616', '3938 N Austin Avenue Unit 1S Chicago, IL 60634', '3730 N Lake Shore Drive 16B Chicago, IL 60613', '645 W Bittersweet Place 1 Chicago, IL 60613', '1442 W 105TH Street Chicago, IL 60643', '320 E 21st Street 215 Chicago, IL 60616', '1524 N Keating Avenue Chicago, IL 60651', '6241 S Richmond Street Chicago, IL 60629', '4416 W 129th Street Alsip, IL 60803', '5415 N Sheridan Road 911 Chicago, IL 60640', '12521 S Harvard Avenue Chicago, IL 60628', '13816 S Atlantic Street Riverdale, IL 60827', '5529 S University Avenue 1W Chicago, IL 60637', '9752 S Drexel Avenue Chicago, IL 60628', '10141 S EMERALD Avenue Chicago, IL 60628', '505 N Lake Shore Drive Unit 1617-18 Chicago, IL 60611', '6565 N Harlem Avenue Unit 3N Chicago, IL 60631', '1310 N Cleaver Street , 2 Chicago, IL 60642', '2422 W 83rd Street Chicago, IL 60652', '2641 N WAYNE Avenue Chicago, IL 60614', '5810 N Paulina Street Chicago, IL 60660', '5812 N Paulina Street Chicago, IL 60660', '1424 W Lexington Street Chicago, IL 60607', '1438 N North Park Avenue 1 Chicago, IL 60610', '8655 S Wabash Avenue Chicago, IL 60619', '1211 S Prairie Avenue 2003 Chicago, IL 60605', 'Chicago, IL 60613', '4951 S Vincennes Avenue Chicago, IL 60615']\n"
          ]
        }
      ],
      "source": [
        "# Fetch pages from 2 to 134\n",
        "# the reason why we did the automation starting from the second page because the variable s of the website link begin looping from the second page till the end\n",
        "\n",
        "\"\"\"  with 2 for loops one for the page and one for the 24 house inside each page\n",
        " you put the content of the page inside big variables like beds\n",
        " then you get the content of each house in the smaller variable like beds_ds \"\"\"\n",
        "\n",
        "for i in range(1, 134):\n",
        "    url = f\"https://www.century21.com/real-estate/chicago-il/LCILCHICAGO/?beds=1&baths=1&minsqft=200&s={i*24}\" # The variable s of the website link at the 2nd page equals with 24 and 3rd with 48 and the 4th with 72 and so on\n",
        "    response = requests.get(url)\n",
        "    r.append(response)\n",
        "    c.append(response.content)\n",
        "    soup.append(BeautifulSoup(c[i], \"html.parser\"))\n",
        "    total = soup[i].find_all(\"div\", {\"class\":\"main-listings row row-cols-1 row-cols-md-2 row-cols-lg-3 row-cols-xxl-4 g-3 px-3 pe-sm-0 pb-3\"})\n",
        "\n",
        "    beds.append(total[0].find_all(\"div\",{\"class\":\"property-spec beds\"}))\n",
        "    prices.append(total[0].find_all(\"div\",{\"class\":\"font-family-taglines property-price\"}))\n",
        "    bath.append(total[0].find_all(\"span\",{\"class\":\"specs-number full-baths\"}))\n",
        "    sq.append(total[0].find_all(\"div\",{\"class\":\"property-spec square-footage\"}))\n",
        "    adrs.append(total[0].find_all(\"p\",{\"class\":\"property-address\"}))\n",
        "\n",
        "    for g in range(0,24):\n",
        "        bath_ds.append(int(bath[i][g].text))\n",
        "        sq_ds.append(int(sq[i][g].text.split()[0].replace(\",\",\"\")))\n",
        "        adrs_ds.append(adrs[i][g].text.strip().replace(\"\\n\",\"\"))\n",
        "\n",
        "        if prices[i][g].text.strip().replace(\",\",\"\").replace(\"$\",\"\").isdigit():\n",
        "            prices_ds.append(int(prices[i][g].text.strip().replace(\",\",\"\").replace(\"$\",\"\")))\n",
        "        else:\n",
        "            prices_ds.append(None)\n",
        "\n",
        "        if beds[i][g].text.split()[0].isdigit():\n",
        "            beds_ds.append(int(beds[i][g].text.split()[0]))\n",
        "        else:\n",
        "            beds_ds.append(None)\n",
        "\n",
        "# Check\n",
        "    if i == 5 :\n",
        "        print(beds_ds)\n",
        "        print(prices_ds)\n",
        "        print(bath_ds)\n",
        "        print(sq_ds)\n",
        "        print(adrs_ds)\n",
        "\n"
      ]
    },
    {
      "cell_type": "markdown",
      "metadata": {},
      "source": [
        "# Creating the dataframe"
      ]
    },
    {
      "cell_type": "code",
      "execution_count": 19,
      "metadata": {
        "id": "hEIbx3ayH2fH"
      },
      "outputs": [],
      "source": [
        "data={\"bed rooms\":beds_ds,\"baths\":bath_ds,\"square feet\":sq_ds,\"address\":adrs_ds,\"price\":prices_ds}"
      ]
    },
    {
      "cell_type": "code",
      "execution_count": 20,
      "metadata": {
        "colab": {
          "base_uri": "https://localhost:8080/",
          "height": 424
        },
        "id": "y-5HdGhmH7NN",
        "outputId": "19ee5663-5631-421c-f156-ddbdbeb0b461"
      },
      "outputs": [
        {
          "data": {
            "text/html": [
              "<div>\n",
              "<style scoped>\n",
              "    .dataframe tbody tr th:only-of-type {\n",
              "        vertical-align: middle;\n",
              "    }\n",
              "\n",
              "    .dataframe tbody tr th {\n",
              "        vertical-align: top;\n",
              "    }\n",
              "\n",
              "    .dataframe thead th {\n",
              "        text-align: right;\n",
              "    }\n",
              "</style>\n",
              "<table border=\"1\" class=\"dataframe\">\n",
              "  <thead>\n",
              "    <tr style=\"text-align: right;\">\n",
              "      <th></th>\n",
              "      <th>bed rooms</th>\n",
              "      <th>baths</th>\n",
              "      <th>square feet</th>\n",
              "      <th>address</th>\n",
              "      <th>price</th>\n",
              "    </tr>\n",
              "  </thead>\n",
              "  <tbody>\n",
              "    <tr>\n",
              "      <th>0</th>\n",
              "      <td>3</td>\n",
              "      <td>3</td>\n",
              "      <td>2000</td>\n",
              "      <td>3913 W 57th Place Chicago, IL 60629</td>\n",
              "      <td>429900.0</td>\n",
              "    </tr>\n",
              "    <tr>\n",
              "      <th>1</th>\n",
              "      <td>1</td>\n",
              "      <td>1</td>\n",
              "      <td>647</td>\n",
              "      <td>7021 N Greenview Avenue , G Chicago, IL 60626</td>\n",
              "      <td>155000.0</td>\n",
              "    </tr>\n",
              "    <tr>\n",
              "      <th>2</th>\n",
              "      <td>2</td>\n",
              "      <td>2</td>\n",
              "      <td>1380</td>\n",
              "      <td>520 W Huron Street Unit 320 Chicago, IL 60654</td>\n",
              "      <td>545000.0</td>\n",
              "    </tr>\n",
              "    <tr>\n",
              "      <th>3</th>\n",
              "      <td>3</td>\n",
              "      <td>2</td>\n",
              "      <td>1400</td>\n",
              "      <td>7611 W Bloomingdale Avenue Elmwood Park, IL 60707</td>\n",
              "      <td>418900.0</td>\n",
              "    </tr>\n",
              "    <tr>\n",
              "      <th>4</th>\n",
              "      <td>2</td>\n",
              "      <td>3</td>\n",
              "      <td>2000</td>\n",
              "      <td>5555 N Sheridan Road Unit 1815 Chicago, IL 60640</td>\n",
              "      <td>460000.0</td>\n",
              "    </tr>\n",
              "    <tr>\n",
              "      <th>...</th>\n",
              "      <td>...</td>\n",
              "      <td>...</td>\n",
              "      <td>...</td>\n",
              "      <td>...</td>\n",
              "      <td>...</td>\n",
              "    </tr>\n",
              "    <tr>\n",
              "      <th>3211</th>\n",
              "      <td>2</td>\n",
              "      <td>1</td>\n",
              "      <td>950</td>\n",
              "      <td>2038 E 72nd Place 3 Chicago, IL 60649</td>\n",
              "      <td>68000.0</td>\n",
              "    </tr>\n",
              "    <tr>\n",
              "      <th>3212</th>\n",
              "      <td>1</td>\n",
              "      <td>1</td>\n",
              "      <td>800</td>\n",
              "      <td>7234 W North Avenue 1111 Elmwood Park, IL 60707</td>\n",
              "      <td>159900.0</td>\n",
              "    </tr>\n",
              "    <tr>\n",
              "      <th>3213</th>\n",
              "      <td>1</td>\n",
              "      <td>1</td>\n",
              "      <td>1070</td>\n",
              "      <td>1800 W Grace Street 308 Chicago, IL 60613</td>\n",
              "      <td>399900.0</td>\n",
              "    </tr>\n",
              "    <tr>\n",
              "      <th>3214</th>\n",
              "      <td>3</td>\n",
              "      <td>2</td>\n",
              "      <td>1464</td>\n",
              "      <td>9217 S Colfax Chicago, IL 60617</td>\n",
              "      <td>250000.0</td>\n",
              "    </tr>\n",
              "    <tr>\n",
              "      <th>3215</th>\n",
              "      <td>3</td>\n",
              "      <td>1</td>\n",
              "      <td>1042</td>\n",
              "      <td>10525 S Cottage Grove Avenue Chicago, IL 60628</td>\n",
              "      <td>109000.0</td>\n",
              "    </tr>\n",
              "  </tbody>\n",
              "</table>\n",
              "<p>3216 rows × 5 columns</p>\n",
              "</div>"
            ],
            "text/plain": [
              "      bed rooms  baths  square feet  \\\n",
              "0             3      3         2000   \n",
              "1             1      1          647   \n",
              "2             2      2         1380   \n",
              "3             3      2         1400   \n",
              "4             2      3         2000   \n",
              "...         ...    ...          ...   \n",
              "3211          2      1          950   \n",
              "3212          1      1          800   \n",
              "3213          1      1         1070   \n",
              "3214          3      2         1464   \n",
              "3215          3      1         1042   \n",
              "\n",
              "                                                address     price  \n",
              "0                   3913 W 57th Place Chicago, IL 60629  429900.0  \n",
              "1         7021 N Greenview Avenue , G Chicago, IL 60626  155000.0  \n",
              "2         520 W Huron Street Unit 320 Chicago, IL 60654  545000.0  \n",
              "3     7611 W Bloomingdale Avenue Elmwood Park, IL 60707  418900.0  \n",
              "4      5555 N Sheridan Road Unit 1815 Chicago, IL 60640  460000.0  \n",
              "...                                                 ...       ...  \n",
              "3211              2038 E 72nd Place 3 Chicago, IL 60649   68000.0  \n",
              "3212    7234 W North Avenue 1111 Elmwood Park, IL 60707  159900.0  \n",
              "3213          1800 W Grace Street 308 Chicago, IL 60613  399900.0  \n",
              "3214                    9217 S Colfax Chicago, IL 60617  250000.0  \n",
              "3215     10525 S Cottage Grove Avenue Chicago, IL 60628  109000.0  \n",
              "\n",
              "[3216 rows x 5 columns]"
            ]
          },
          "metadata": {},
          "output_type": "display_data"
        }
      ],
      "source": [
        "import pandas as pd\n",
        "df=pd.DataFrame(data)\n",
        "display(df)"
      ]
    },
    {
      "cell_type": "code",
      "execution_count": 21,
      "metadata": {
        "colab": {
          "base_uri": "https://localhost:8080/"
        },
        "id": "XvBwYzUmH_3M",
        "outputId": "22d6e727-2aab-4b9b-ae2c-cf530be041b7"
      },
      "outputs": [
        {
          "name": "stdout",
          "output_type": "stream",
          "text": [
            "<class 'pandas.core.frame.DataFrame'>\n",
            "RangeIndex: 3216 entries, 0 to 3215\n",
            "Data columns (total 5 columns):\n",
            " #   Column       Non-Null Count  Dtype  \n",
            "---  ------       --------------  -----  \n",
            " 0   bed rooms    3216 non-null   int64  \n",
            " 1   baths        3216 non-null   int64  \n",
            " 2   square feet  3216 non-null   int64  \n",
            " 3   address      3216 non-null   object \n",
            " 4   price        3205 non-null   float64\n",
            "dtypes: float64(1), int64(3), object(1)\n",
            "memory usage: 125.8+ KB\n"
          ]
        }
      ],
      "source": [
        "df.info()"
      ]
    },
    {
      "cell_type": "markdown",
      "metadata": {},
      "source": [
        "# Output to CSV file"
      ]
    },
    {
      "cell_type": "code",
      "execution_count": 22,
      "metadata": {
        "id": "hdTTTDSNIAYr"
      },
      "outputs": [],
      "source": [
        "df.to_csv(\"output.csv\",index=False)"
      ]
    }
  ],
  "metadata": {
    "colab": {
      "gpuType": "T4",
      "provenance": []
    },
    "kernelspec": {
      "display_name": "Python 3",
      "name": "python3"
    },
    "language_info": {
      "codemirror_mode": {
        "name": "ipython",
        "version": 3
      },
      "file_extension": ".py",
      "mimetype": "text/x-python",
      "name": "python",
      "nbconvert_exporter": "python",
      "pygments_lexer": "ipython3",
      "version": "3.12.4"
    }
  },
  "nbformat": 4,
  "nbformat_minor": 0
}
